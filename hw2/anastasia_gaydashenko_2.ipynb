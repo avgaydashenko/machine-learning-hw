{
 "cells": [
  {
   "cell_type": "code",
   "execution_count": 1,
   "metadata": {
    "collapsed": true
   },
   "outputs": [],
   "source": [
    "import numpy as np\n",
    "import matplotlib.pyplot as plt\n",
    "import cv2\n",
    "\n",
    "%matplotlib inline\n",
    "\n",
    "np.random.seed(0)"
   ]
  },
  {
   "cell_type": "code",
   "execution_count": 2,
   "metadata": {
    "collapsed": true
   },
   "outputs": [],
   "source": [
    "def read_image(path='superman-batman.png'):\n",
    "    return cv2.imread(path)[:,:,::-1].reshape(-1, 3)"
   ]
  },
  {
   "cell_type": "code",
   "execution_count": 5,
   "metadata": {
    "collapsed": true
   },
   "outputs": [],
   "source": [
    "def k_means(X, n_clusters=n_clusters, distance_metric=dist):\n",
    "    \n",
    "    # initializing mu with k-means++\n",
    "    tmp = np.ascontiguousarray(X).view(np.dtype((np.void, X.dtype.itemsize * X.shape[1])))\n",
    "    _, idx, inv_idx = np.unique(tmp, return_index=True, return_inverse=True)\n",
    "    unique_samples = X[idx]\n",
    "\n",
    "    mu_ind = np.zeros(n_clusters, dtype=np.int64)\n",
    "    mu_ind[0] = np.random.randint(unique_samples.shape[0])\n",
    "\n",
    "    for k in range(1, n_clusters):\n",
    "        # finding square of distance to nearest cluster for each unique sample \n",
    "        distances = np.array([min([np.square(dist(cluster, sample))]\n",
    "                                  for cluster in unique_samples[mu_ind[:k]]) for sample in unique_samples])\n",
    "        probabilities = distances / np.sum(distances)\n",
    "        mu_ind[k] = np.random.choice(unique_samples.shape[0], 1, p=probabilities.ravel())\n",
    "    \n",
    "    mu = (unique_samples[mu_ind]).astype(np.int64)\n",
    "    mu_prev = np.zeros_like(mu)\n",
    "    \n",
    "    c_unique = np.zeros(unique_samples.shape[0], dtype=np.int64)\n",
    "    \n",
    "    while (mu != mu_prev).any():\n",
    "        mu_prev = mu.copy()\n",
    "        mu = np.zeros_like(mu)\n",
    "        mu_num = np.zeros_like(mu_ind, dtype=np.int64)\n",
    "\n",
    "        for i, sample in enumerate(unique_samples):\n",
    "            c_unique[i] = np.argmin(np.array([dist(cluster, sample) for cluster in mu_prev]))\n",
    "            mu_num[c_unique[i]] += 1\n",
    "            mu[c_unique[i]] += sample\n",
    "\n",
    "        mu = (mu / mu_num.reshape(n_clusters, -1)).astype(np.int64)\n",
    "        \n",
    "    return (c_unique[inv_idx], mu)"
   ]
  },
  {
   "cell_type": "code",
   "execution_count": 13,
   "metadata": {
    "collapsed": true
   },
   "outputs": [],
   "source": [
    "def centroid_histogram(labels):\n",
    "    res = np.histogram(labels, bins=labels.max()+1)[0]\n",
    "    return res / np.sum(res)"
   ]
  },
  {
   "cell_type": "code",
   "execution_count": 7,
   "metadata": {
    "collapsed": true
   },
   "outputs": [],
   "source": [
    "def plot_colors(hist, centroids):\n",
    "    \n",
    "    height, width = (50, 200)\n",
    "    \n",
    "    bar = np.zeros((height, width, 3), dtype='uint8')\n",
    "    start_x = 0\n",
    "    \n",
    "    for percent, color in zip(hist, centroids):\n",
    "        end_x = start_x + width * percent\n",
    "        cv2.rectangle(bar, (int(start_x), 0), (int(end_x), height), color.astype('uint8').tolist(), -1)\n",
    "        start_x = end_x\n",
    "    \n",
    "    return bar"
   ]
  },
  {
   "cell_type": "code",
   "execution_count": 14,
   "metadata": {
    "collapsed": true
   },
   "outputs": [],
   "source": [
    "def recolor(image, n_colors=n_clusters):\n",
    "    \n",
    "    c, mu = k_means(image.astype(np.int64), n_clusters=n_colors)\n",
    "    \n",
    "    plt.figure()\n",
    "    plt.imshow(plot_colors(centroid_histogram(c), mu))\n",
    "    plt.show()\n",
    "    \n",
    "    cv2.imwrite('superman-batman-16-colors.png', mu[c].reshape(1024, 768, 3)[:,:,::-1])"
   ]
  },
  {
   "cell_type": "code",
   "execution_count": 3,
   "metadata": {
    "collapsed": true
   },
   "outputs": [],
   "source": [
    "n_clusters = 16"
   ]
  },
  {
   "cell_type": "code",
   "execution_count": 4,
   "metadata": {
    "collapsed": true
   },
   "outputs": [],
   "source": [
    "dist = lambda a, b: np.linalg.norm(a.astype(np.float64)-b)"
   ]
  },
  {
   "cell_type": "code",
   "execution_count": 8,
   "metadata": {
    "collapsed": false
   },
   "outputs": [],
   "source": [
    "img = read_image()"
   ]
  },
  {
   "cell_type": "code",
   "execution_count": 15,
   "metadata": {
    "collapsed": false
   },
   "outputs": [
    {
     "data": {
      "image/png": "[encoded data removed]",
      "text/plain": [
       "<matplotlib.figure.Figure at 0x4866a90>"
      ]
     },
     "metadata": {},
     "output_type": "display_data"
    }
   ],
   "source": [
    "recolor(img)"
   ]
  },
  {
   "cell_type": "code",
   "execution_count": null,
   "metadata": {
    "collapsed": true
   },
   "outputs": [],
   "source": []
  }
 ],
 "metadata": {
  "kernelspec": {
   "display_name": "Python 3",
   "language": "python",
   "name": "python3"
  },
  "language_info": {
   "codemirror_mode": {
    "name": "ipython",
    "version": 3
   },
   "file_extension": ".py",
   "mimetype": "text/x-python",
   "name": "python",
   "nbconvert_exporter": "python",
   "pygments_lexer": "ipython3",
   "version": "3.5.3"
  }
 },
 "nbformat": 4,
 "nbformat_minor": 0
}
