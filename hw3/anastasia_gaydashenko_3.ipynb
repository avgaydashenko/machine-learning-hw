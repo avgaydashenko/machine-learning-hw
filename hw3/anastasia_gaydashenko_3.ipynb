{
 "cells": [
  {
   "cell_type": "code",
   "execution_count": 1,
   "metadata": {
    "collapsed": true
   },
   "outputs": [],
   "source": [
    "import numpy as np\n",
    "import pandas as pd\n",
    "from PIL import Image, ImageDraw\n",
    "\n",
    "np.random.seed(0)"
   ]
  },
  {
   "cell_type": "code",
   "execution_count": 2,
   "metadata": {
    "collapsed": true
   },
   "outputs": [],
   "source": [
    "def entropy(y):\n",
    "    p = np.array(y.value_counts()) / len(y)\n",
    "    return -np.sum(p * np.log2(p))"
   ]
  },
  {
   "cell_type": "code",
   "execution_count": 3,
   "metadata": {
    "collapsed": true
   },
   "outputs": [],
   "source": [
    "class Node:\n",
    "    def __init__(self, false_branch=None, true_branch=None, feature=None, feature_value=None):\n",
    "        self.false_branch = false_branch\n",
    "        self.true_branch = true_branch\n",
    "        self.feature = feature\n",
    "        self.feature_value = feature_value"
   ]
  },
  {
   "cell_type": "code",
   "execution_count": 4,
   "metadata": {
    "collapsed": false
   },
   "outputs": [],
   "source": [
    "class DecisionTree(Node):\n",
    "        \n",
    "    def build(self, X, y, score=entropy):\n",
    "        \n",
    "        if pd.unique(y).shape[0] == 1:\n",
    "            return pd.unique(y)[0]\n",
    "        else:\n",
    "            max_inf_gain = 0\n",
    "            len_y = len(y)\n",
    "            score_y = score(y)\n",
    "            \n",
    "            for i in X:\n",
    "                values = pd.unique(X[i])\n",
    "                for v in values:\n",
    "                    if type(v) == str: ind = X[i] == v\n",
    "                    else: ind = X[i] < v\n",
    "                        \n",
    "                    inf_gain = score_y - (score(y[ind])*len(y[ind]) + score(y[~ind])*len(y[~ind]))/len_y\n",
    "                    if max_inf_gain < inf_gain:\n",
    "                        max_inf_gain = inf_gain\n",
    "                        index = ind\n",
    "                        feature, feature_value = i, v\n",
    "\n",
    "            if len(y[index]) == 0 or len(y[~index]) == 0:\n",
    "                return y.value_counts().argmax()\n",
    "            else:\n",
    "                self.false_branch = DecisionTree().build(X[~index], y[~index])\n",
    "                self.true_branch = DecisionTree().build(X[index], y[index])\n",
    "                self.feature=feature\n",
    "                self.feature_value=feature_value\n",
    "            \n",
    "        return self\n",
    "    \n",
    "    def predict(self, x):\n",
    "        if not isinstance(self, Node):\n",
    "            return self\n",
    "        \n",
    "        i, v = self.feature, self.feature_value\n",
    "        \n",
    "        if (type(v) == str and x[i] == v) or (type(v) != str and x[i] < v):\n",
    "            next_tree = self.true_branch\n",
    "        else:\n",
    "            next_tree = self.false_branch\n",
    "            \n",
    "        if isinstance(next_tree, Node):\n",
    "            return next_tree.predict(x)\n",
    "        else:\n",
    "            return next_tree"
   ]
  },
  {
   "cell_type": "code",
   "execution_count": 5,
   "metadata": {
    "collapsed": true
   },
   "outputs": [],
   "source": [
    "def getwidth(tree):\n",
    "    if isinstance(tree, Node):\n",
    "        return getwidth(tree.false_branch) + getwidth(tree.true_branch)\n",
    "    return 1\n",
    "\n",
    "def getdepth(tree):\n",
    "    if isinstance(tree, Node):\n",
    "        return 1 + max(getdepth(tree.false_branch), getdepth(tree.true_branch))\n",
    "    return 1"
   ]
  },
  {
   "cell_type": "code",
   "execution_count": 6,
   "metadata": {
    "collapsed": true
   },
   "outputs": [],
   "source": [
    "def drawtree(tree, path='tree.jpg'):\n",
    "    w = getwidth(tree) * 100\n",
    "    h = getdepth(tree) * 100\n",
    "    img = Image.new('RGB', (w, h), (255, 255, 255))\n",
    "    draw = ImageDraw.Draw(img)\n",
    "    drawnode(draw, tree, w / 2, 20)\n",
    "    img.save(path, 'JPEG')\n",
    "    \n",
    "def drawnode(draw, tree, x, y):\n",
    "    if isinstance(tree, Node):\n",
    "        shift = 100\n",
    "        width1 = getwidth(tree.false_branch) * shift\n",
    "        width2 = getwidth(tree.true_branch) * shift\n",
    "        left = x - (width1 + width2) / 2\n",
    "        right = x + (width1 + width2) / 2\n",
    "\n",
    "        i, v = tree.feature, tree.feature_value\n",
    "        if (type(v) == str):\n",
    "            predicate = \"{feature} == {value}?\".format(feature=i, value=v)\n",
    "        else:\n",
    "            predicate = \"{feature} < {value}?\".format(feature=i, value=v)\n",
    "        \n",
    "        draw.text((x - 20, y - 10), predicate, (0, 0, 0))\n",
    "        draw.line((x, y, left + width1 / 2, y + shift), fill=(255, 0, 0))\n",
    "        draw.line((x, y, right - width2 / 2, y   + shift), fill=(255, 0, 0))\n",
    "        drawnode(draw, tree.false_branch, left + width1 / 2, y   + shift)\n",
    "        drawnode(draw, tree.true_branch, right - width2 / 2, y   + shift)\n",
    "    else:\n",
    "        draw.text((x - 20, y), tree, (0, 0, 0))"
   ]
  },
  {
   "cell_type": "code",
   "execution_count": 7,
   "metadata": {
    "collapsed": true
   },
   "outputs": [],
   "source": [
    "data = pd.read_csv('halloween.csv')\n",
    "y = data['type']\n",
    "X = data.drop('type', axis=1)"
   ]
  },
  {
   "cell_type": "code",
   "execution_count": 8,
   "metadata": {
    "collapsed": true
   },
   "outputs": [],
   "source": [
    "n = int(len(y)*0.8)"
   ]
  },
  {
   "cell_type": "code",
   "execution_count": 9,
   "metadata": {
    "collapsed": true
   },
   "outputs": [],
   "source": [
    "X_train, y_train = X[:n], y[:n]\n",
    "X_test, y_test = X[n:], y[n:]"
   ]
  },
  {
   "cell_type": "code",
   "execution_count": 10,
   "metadata": {
    "collapsed": true
   },
   "outputs": [],
   "source": [
    "dt = DecisionTree()"
   ]
  },
  {
   "cell_type": "code",
   "execution_count": 11,
   "metadata": {
    "collapsed": false
   },
   "outputs": [
    {
     "data": {
      "text/plain": [
       "<__main__.DecisionTree at 0x7fcd5c0>"
      ]
     },
     "execution_count": 11,
     "metadata": {},
     "output_type": "execute_result"
    }
   ],
   "source": [
    "dt.build(X_train, y_train)"
   ]
  },
  {
   "cell_type": "code",
   "execution_count": 12,
   "metadata": {
    "collapsed": false
   },
   "outputs": [],
   "source": [
    "err_train = 0\n",
    "for i in np.arange(len(y_train)):\n",
    "    if dt.predict(X_train.iloc[i]) != y_train[i]:\n",
    "        err_train += 1"
   ]
  },
  {
   "cell_type": "code",
   "execution_count": 40,
   "metadata": {
    "collapsed": false
   },
   "outputs": [],
   "source": [
    "err_test = 0\n",
    "for i in np.arange(len(y_test)):\n",
    "    if dt.predict(X_test.iloc[i]) != y_test[i+y_test.index[0]]:\n",
    "        err_test += 1"
   ]
  },
  {
   "cell_type": "code",
   "execution_count": 42,
   "metadata": {
    "collapsed": false
   },
   "outputs": [
    {
     "data": {
      "text/plain": [
       "(0.0, 0.3466666666666667)"
      ]
     },
     "execution_count": 42,
     "metadata": {},
     "output_type": "execute_result"
    }
   ],
   "source": [
    "err_train/len(y_train), err_test/len(y_test)"
   ]
  },
  {
   "cell_type": "code",
   "execution_count": 44,
   "metadata": {
    "collapsed": false
   },
   "outputs": [],
   "source": [
    "drawtree(dt)"
   ]
  },
  {
   "cell_type": "code",
   "execution_count": 38,
   "metadata": {
    "collapsed": false
   },
   "outputs": [
    {
     "data": {
      "text/plain": [
       "12"
      ]
     },
     "execution_count": 38,
     "metadata": {},
     "output_type": "execute_result"
    }
   ],
   "source": [
    "getdepth(dt)"
   ]
  },
  {
   "cell_type": "code",
   "execution_count": 39,
   "metadata": {
    "collapsed": false
   },
   "outputs": [
    {
     "data": {
      "text/plain": [
       "62"
      ]
     },
     "execution_count": 39,
     "metadata": {},
     "output_type": "execute_result"
    }
   ],
   "source": [
    "getwidth(dt)"
   ]
  },
  {
   "cell_type": "code",
   "execution_count": null,
   "metadata": {
    "collapsed": true
   },
   "outputs": [],
   "source": []
  }
 ],
 "metadata": {
  "kernelspec": {
   "display_name": "Python 3",
   "language": "python",
   "name": "python3"
  },
  "language_info": {
   "codemirror_mode": {
    "name": "ipython",
    "version": 3
   },
   "file_extension": ".py",
   "mimetype": "text/x-python",
   "name": "python",
   "nbconvert_exporter": "python",
   "pygments_lexer": "ipython3",
   "version": "3.5.3"
  }
 },
 "nbformat": 4,
 "nbformat_minor": 0
}
