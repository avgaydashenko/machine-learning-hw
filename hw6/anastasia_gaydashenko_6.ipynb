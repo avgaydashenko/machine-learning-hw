{
 "cells": [
  {
   "cell_type": "code",
   "execution_count": 1,
   "metadata": {
    "collapsed": false
   },
   "outputs": [],
   "source": [
    "import numpy as np\n",
    "import matplotlib.pyplot as plt\n",
    "%matplotlib inline"
   ]
  },
  {
   "cell_type": "code",
   "execution_count": 2,
   "metadata": {
    "collapsed": true
   },
   "outputs": [],
   "source": [
    "from sklearn import datasets\n",
    "from sklearn.cross_validation import train_test_split"
   ]
  },
  {
   "cell_type": "code",
   "execution_count": 3,
   "metadata": {
    "collapsed": true
   },
   "outputs": [],
   "source": [
    "dataset = datasets.fetch_mldata('MNIST Original')\n",
    "trainX, testX, trainY, testY = train_test_split(dataset.data / 255.0, dataset.target.astype('int0'), test_size=0.3)"
   ]
  },
  {
   "cell_type": "code",
   "execution_count": 4,
   "metadata": {
    "collapsed": false
   },
   "outputs": [],
   "source": [
    "def sigmoid(x):\n",
    "    return 1 / (1 + np.exp(-x))\n",
    "\n",
    "def sigmoid_derivative(x):\n",
    "    tmp = sigmoid(x)\n",
    "    return tmp * (1 - tmp)"
   ]
  },
  {
   "cell_type": "code",
   "execution_count": 5,
   "metadata": {
    "collapsed": true
   },
   "outputs": [],
   "source": [
    "def append_bias(arr):\n",
    "    return np.concatenate((np.array([-1]), arr))"
   ]
  },
  {
   "cell_type": "code",
   "execution_count": 6,
   "metadata": {
    "collapsed": false
   },
   "outputs": [],
   "source": [
    "class NeuralNetwork:\n",
    "    def __init__(self, layers):\n",
    "        self.num_layers = len(layers)\n",
    "        self.layers = layers\n",
    "        \n",
    "    def train(self, X_, y, max_iter=10000, learning_rate=1):\n",
    "        n = len(y)\n",
    "        X = X_.copy()\n",
    "        self.weights = [np.random.rand(self.layers[i]+1,self.layers[i+1])/n - 1/(2*n) for i in range(self.num_layers-1)]\n",
    "        \n",
    "        self.losses = []\n",
    "        self.α = learning_rate\n",
    "        \n",
    "        for _ in range(max_iter):\n",
    "            ind = np.random.randint(0, n)            \n",
    "            self.forward(X[ind])\n",
    "            self.backward(X[ind], y[ind])\n",
    "    \n",
    "    def forward(self, X):\n",
    "        self.result = [append_bias(X)]\n",
    "        self.state = [self.result[-1].copy()]\n",
    "        \n",
    "        for w in self.weights:\n",
    "            self.result.append(append_bias(np.sum(self.state[-1] * w.T, axis=1)))\n",
    "            self.state.append(append_bias(sigmoid(self.result[-1][1:])))\n",
    "            \n",
    "        return self.state[-1][1:]\n",
    "        \n",
    "    def backward(self, X, y):\n",
    "        ϵ = self.state[-1][1:].copy()\n",
    "        ϵ[y] -= 1\n",
    "        self.losses.append(np.sum(np.square(ϵ)) / 2)\n",
    "        \n",
    "        for i in range(self.num_layers-2, -1, -1):\n",
    "            tmp = self.weights[i][1:].copy()\n",
    "            self.weights[i] = self.weights[i] - self.α * ϵ * append_bias(sigmoid_derivative(\n",
    "                                                            self.result[i][1:]))[:,np.newaxis] * self.state[i][:,np.newaxis]\n",
    "            ϵ = np.sum(ϵ * sigmoid_derivative(self.result[i][1:])[:,np.newaxis] * tmp, axis=1)\n",
    "        \n",
    "    def predict(self, X):\n",
    "        res = []\n",
    "        for x in X:\n",
    "            res.append(np.argmax(self.forward(x)))\n",
    "            \n",
    "        return np.array(res)"
   ]
  },
  {
   "cell_type": "code",
   "execution_count": 8,
   "metadata": {
    "collapsed": true
   },
   "outputs": [],
   "source": [
    "nn = NeuralNetwork([trainX.shape[1], 10])"
   ]
  },
  {
   "cell_type": "code",
   "execution_count": 9,
   "metadata": {
    "collapsed": false
   },
   "outputs": [],
   "source": [
    "np.random.seed(1)\n",
    "nn.train(trainX, trainY, max_iter=2000)"
   ]
  },
  {
   "cell_type": "code",
   "execution_count": 10,
   "metadata": {
    "collapsed": false
   },
   "outputs": [
    {
     "data": {
      "text/plain": [
       "0.65195238095238095"
      ]
     },
     "execution_count": 10,
     "metadata": {},
     "output_type": "execute_result"
    }
   ],
   "source": [
    "(nn.predict(testX) == testY).sum() / len(testY)"
   ]
  },
  {
   "cell_type": "code",
   "execution_count": 12,
   "metadata": {
    "collapsed": false
   },
   "outputs": [
    {
     "data": {
      "text/plain": [
       "[0.098000000000000004,\n",
       " 0.10871428571428571,\n",
       " 0.80785714285714283,\n",
       " 0.79652380952380952]"
      ]
     },
     "execution_count": 12,
     "metadata": {},
     "output_type": "execute_result"
    }
   ],
   "source": [
    "res = []\n",
    "\n",
    "for H in [15, 50, 100, 200]:\n",
    "    nn = NeuralNetwork([trainX.shape[1], H, 10])\n",
    "    nn.train(trainX, trainY, max_iter=2000)\n",
    "    res.append((nn.predict(testX) == testY).sum() / len(testY))\n",
    "    \n",
    "res"
   ]
  },
  {
   "cell_type": "code",
   "execution_count": 18,
   "metadata": {
    "collapsed": false
   },
   "outputs": [
    {
     "data": {
      "text/plain": [
       "[0.66152380952380951,\n",
       " 0.098000000000000004,\n",
       " 0.098000000000000004,\n",
       " 0.10295238095238095,\n",
       " 0.098000000000000004]"
      ]
     },
     "execution_count": 18,
     "metadata": {},
     "output_type": "execute_result"
    }
   ],
   "source": [
    "res = []\n",
    "\n",
    "for n in range(5):\n",
    "    nn = NeuralNetwork([trainX.shape[1]] + [15]*n + [10])\n",
    "    nn.train(trainX, trainY, max_iter=2000)\n",
    "    res.append((nn.predict(testX) == testY).sum() / len(testY))\n",
    "    \n",
    "res"
   ]
  },
  {
   "cell_type": "code",
   "execution_count": null,
   "metadata": {
    "collapsed": true
   },
   "outputs": [],
   "source": []
  }
 ],
 "metadata": {
  "kernelspec": {
   "display_name": "Python 3",
   "language": "python",
   "name": "python3"
  },
  "language_info": {
   "codemirror_mode": {
    "name": "ipython",
    "version": 3
   },
   "file_extension": ".py",
   "mimetype": "text/x-python",
   "name": "python",
   "nbconvert_exporter": "python",
   "pygments_lexer": "ipython3",
   "version": "3.5.3"
  }
 },
 "nbformat": 4,
 "nbformat_minor": 0
}
