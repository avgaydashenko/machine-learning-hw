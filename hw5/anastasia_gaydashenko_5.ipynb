{
 "cells": [
  {
   "cell_type": "code",
   "execution_count": 1,
   "metadata": {
    "collapsed": true
   },
   "outputs": [],
   "source": [
    "import numpy as np\n",
    "import matplotlib.pyplot as plt\n",
    "%matplotlib inline"
   ]
  },
  {
   "cell_type": "code",
   "execution_count": 2,
   "metadata": {
    "collapsed": false
   },
   "outputs": [],
   "source": [
    "def read_data(path):\n",
    "    data = np.genfromtxt(path, delimiter=',')\n",
    "    return data[:,:-1], data[:,-1]"
   ]
  },
  {
   "cell_type": "code",
   "execution_count": 3,
   "metadata": {
    "collapsed": true
   },
   "outputs": [],
   "source": [
    "def train_test_split(X, y, ratio=0.8):\n",
    "    indices = np.arange(X.shape[0])\n",
    "    np.random.shuffle(indices)\n",
    "    l = int(X.shape[0] * ratio)\n",
    "    return X[indices[:l]], y[indices[:l]], X[indices[l:]], y[indices[l:]]"
   ]
  },
  {
   "cell_type": "code",
   "execution_count": 4,
   "metadata": {
    "collapsed": true
   },
   "outputs": [],
   "source": [
    "def print_precision_recall(y_pred, y_test):\n",
    "    classes = np.unique(y_test)\n",
    "    correct = y_pred[y_test == y_pred]\n",
    "    incorrect = y_pred[y_test != y_pred]\n",
    "\n",
    "    for c in range(len(classes)):\n",
    "\n",
    "        tp = len(correct[correct == classes[c]])\n",
    "        fp = len(incorrect[incorrect == classes[c]])\n",
    "        fn = len(incorrect) - fp\n",
    "        \n",
    "        print(\"class: {c}, precision: {p}, recall: {r}\".format(c=classes[c], p=tp/(tp+fp), r=tp/(tp+fn)))"
   ]
  },
  {
   "cell_type": "code",
   "execution_count": 5,
   "metadata": {
    "collapsed": true
   },
   "outputs": [],
   "source": [
    "def sigmoid_loss(M, res='both'):\n",
    "    if res == 'both':\n",
    "        return 2 / (1 + np.exp(M)), -2 * np.exp(M) / np.power(1 + np.exp(M), 2)\n",
    "    elif res == 'fun':\n",
    "        return 2 / (1 + np.exp(M))\n",
    "    return -2 * np.exp(M) / np.power(1 + np.exp(M), 2)"
   ]
  },
  {
   "cell_type": "code",
   "execution_count": 6,
   "metadata": {
    "collapsed": true
   },
   "outputs": [],
   "source": [
    "def log_loss(M, res='both'):\n",
    "    if res == 'both':\n",
    "        return np.log2(1 + np.exp(-M)), -np.exp(-M) / np.log(2) / (1 + np.exp(-M))\n",
    "    elif res == 'fun':\n",
    "        return np.log2(1 + np.exp(-M))\n",
    "    return -np.exp(-M) / np.log(2) / (1 + np.exp(-M))"
   ]
  },
  {
   "cell_type": "code",
   "execution_count": 7,
   "metadata": {
    "collapsed": false
   },
   "outputs": [],
   "source": [
    "class GradientDescent:\n",
    "    def __init__(self, alpha, tau=1e-2, threshold=1e-2, loss=sigmoid_loss):\n",
    "        if alpha <= 0:\n",
    "            raise ValueError(\"alpha should be positive\")\n",
    "        if tau <= 0:\n",
    "            raise ValueError(\"tau should be non-negative\")\n",
    "        if threshold <= 0:\n",
    "            raise ValueError(\"threshold should be positive\")\n",
    "            \n",
    "        self.alpha = alpha\n",
    "        self.tau = tau\n",
    "        self.threshold = threshold\n",
    "        self.loss = loss\n",
    "        \n",
    "    def fit(self, X_, y):\n",
    "        n = len(y)\n",
    "        X = np.concatenate((-np.ones((n,1)), X_), axis=1)\n",
    "        \n",
    "        self.weights = np.random.rand(X.shape[1])/n - 1/(2*n)\n",
    "        weights_prev = self.weights.copy()\n",
    "        self.weights -= self.alpha * self.tau * self.weights + self.alpha * \\\n",
    "                        np.sum(self.loss(np.inner(self.weights, X)*y, res='grad')[:,np.newaxis] * X * y[:,np.newaxis], axis=0)\n",
    "        \n",
    "        self.errors = [np.sum(self.loss(np.inner(self.weights, X)*y, res='fun'))]\n",
    "            \n",
    "        while np.abs(weights_prev - self.weights).sum() > self.threshold:          \n",
    "            weights_prev = self.weights.copy()\n",
    "            self.weights -= self.alpha * self.tau * self.weights + self.alpha * \\\n",
    "                        np.sum(self.loss(np.inner(self.weights, X)*y, res='grad')[:,np.newaxis] * X * y[:,np.newaxis], axis=0)\n",
    "            self.errors.append(np.sum(self.loss(np.inner(self.weights, X)*y, res='fun')))\n",
    "            \n",
    "        return self.errors\n",
    "    \n",
    "    def predict(self, X):\n",
    "        return np.sign(np.inner(self.weights,np.concatenate((-np.ones((len(X),1)), X), axis=1)))"
   ]
  },
  {
   "cell_type": "code",
   "execution_count": 8,
   "metadata": {
    "collapsed": true
   },
   "outputs": [],
   "source": [
    "class SGD:\n",
    "    def __init__(self, alpha, tau=1e-2, loss=log_loss, k=1, n_iter=100):\n",
    "        if alpha <= 0:\n",
    "            raise ValueError(\"alpha should be positive\")\n",
    "        if tau <= 0:\n",
    "            raise ValueError(\"tau should be non-negative\")\n",
    "        if k <= 0 or not isinstance(k, int):\n",
    "            raise ValueError(\"k should be a positive integer\")\n",
    "        if n_iter <= 0 or not isinstance(n_iter, int):\n",
    "            raise ValueError(\"n_iter should be a positive integer\")\n",
    "            \n",
    "        self.k = k\n",
    "        self.n_iter = n_iter\n",
    "        self.alpha = alpha\n",
    "        self.tau = tau\n",
    "        self.loss = loss\n",
    "        \n",
    "    def fit(self, X_, y_):\n",
    "        n = len(y_)\n",
    "        eta = 1/n\n",
    "        X = np.concatenate((-np.ones((n,1)), X_), axis=1)\n",
    "        indeces = np.arange(n)\n",
    "        np.random.shuffle(indeces)\n",
    "        X = X[indeces]\n",
    "        y = y_.copy()[indeces]\n",
    "        self.weights = np.random.rand(X.shape[1])/n - 1/(2*n)\n",
    "        \n",
    "        Q = np.sum(self.loss(np.inner(self.weights, X)*y, res='fun'))\n",
    "        self.errors = [Q]\n",
    "        \n",
    "        for i in range(self.n_iter):          \n",
    "            start = i * self.k % n\n",
    "            end = (i + 1) * self.k % n\n",
    "            batch = X[:(i+1)*self.k] if start < end else np.concatenate((X[end:], X[:start]))\n",
    "            y_batch = y[:(i+1)*self.k] if start < end else np.concatenate((y[end:], y[:start]))\n",
    "            \n",
    "            current_loss = np.sum(self.loss(np.inner(self.weights, batch)*y_batch, res='fun'))\n",
    "            \n",
    "            self.weights -= self.alpha * self.tau * self.weights + self.alpha * np.sum(self.loss(\n",
    "                    np.inner(self.weights, batch)*y_batch, res='grad')[:,np.newaxis] * batch * y_batch[:,np.newaxis], axis=0)\n",
    "                    \n",
    "            Q = (1 - eta) * Q + eta * current_loss\n",
    "            self.errors.append(Q)\n",
    "            \n",
    "        return self.errors\n",
    "    \n",
    "    def predict(self, X):\n",
    "        return np.sign(np.inner(self.weights,np.concatenate((-np.ones((len(X),1)), X), axis=1))) "
   ]
  },
  {
   "cell_type": "code",
   "execution_count": 9,
   "metadata": {
    "collapsed": true
   },
   "outputs": [],
   "source": [
    "X, y = read_data('pima-indians-diabetes.csv')\n",
    "X = (X - X.mean(axis=0)) / X.std(axis=0) # scaling\n",
    "y[y == 0] = -1\n",
    "\n",
    "X_train, y_train, X_test, y_test = train_test_split(X, y)"
   ]
  },
  {
   "cell_type": "code",
   "execution_count": 27,
   "metadata": {
    "collapsed": false
   },
   "outputs": [],
   "source": [
    "gd = GradientDescent(alpha=0.01)"
   ]
  },
  {
   "cell_type": "code",
   "execution_count": 11,
   "metadata": {
    "collapsed": true
   },
   "outputs": [],
   "source": [
    "sgd = SGD(alpha=0.01, n_iter=1000)"
   ]
  },
  {
   "cell_type": "code",
   "execution_count": 30,
   "metadata": {
    "collapsed": false
   },
   "outputs": [],
   "source": [
    "tmp = gd.weights.copy()"
   ]
  },
  {
   "cell_type": "code",
   "execution_count": 31,
   "metadata": {
    "collapsed": false
   },
   "outputs": [
    {
     "data": {
      "text/plain": [
       "array([  8.42844658,   4.06560658,  11.27150017,  -1.39796972,\n",
       "        -1.34944519,   3.65810914,   7.19306574,   6.25000594,  -0.90984987])"
      ]
     },
     "execution_count": 31,
     "metadata": {},
     "output_type": "execute_result"
    }
   ],
   "source": [
    "tmp"
   ]
  },
  {
   "cell_type": "code",
   "execution_count": 33,
   "metadata": {
    "collapsed": false
   },
   "outputs": [
    {
     "data": {
      "text/plain": [
       "array([  8.42844407,   4.06560521,  11.2714966 ,  -1.39796934,\n",
       "        -1.34944484,   3.65810803,   7.1930635 ,   6.25000404,  -0.90984935])"
      ]
     },
     "execution_count": 33,
     "metadata": {},
     "output_type": "execute_result"
    }
   ],
   "source": [
    "gd.weights"
   ]
  },
  {
   "cell_type": "code",
   "execution_count": 32,
   "metadata": {
    "collapsed": false
   },
   "outputs": [],
   "source": [
    "gd_errors = gd.fit(X_train, y_train)"
   ]
  },
  {
   "cell_type": "code",
   "execution_count": 13,
   "metadata": {
    "collapsed": false
   },
   "outputs": [],
   "source": [
    "sgd_errors = sgd.fit(X_train, y_train)"
   ]
  },
  {
   "cell_type": "code",
   "execution_count": 14,
   "metadata": {
    "collapsed": false
   },
   "outputs": [
    {
     "name": "stdout",
     "output_type": "stream",
     "text": [
      "class: -1.0, precision: 0.8165137614678899, recall: 0.8557692307692307\n",
      "class: 1.0, precision: 0.6666666666666666, recall: 0.6\n"
     ]
    }
   ],
   "source": [
    "print_precision_recall(gd.predict(X_test), y_test)"
   ]
  },
  {
   "cell_type": "code",
   "execution_count": 15,
   "metadata": {
    "collapsed": false
   },
   "outputs": [
    {
     "name": "stdout",
     "output_type": "stream",
     "text": [
      "class: -1.0, precision: 0.8137254901960784, recall: 0.7980769230769231\n",
      "class: 1.0, precision: 0.5961538461538461, recall: 0.62\n"
     ]
    }
   ],
   "source": [
    "print_precision_recall(sgd.predict(X_test), y_test)"
   ]
  },
  {
   "cell_type": "code",
   "execution_count": 16,
   "metadata": {
    "collapsed": false
   },
   "outputs": [
    {
     "data": {
      "text/plain": [
       "<matplotlib.text.Text at 0x7613780>"
      ]
     },
     "execution_count": 16,
     "metadata": {},
     "output_type": "execute_result"
    },
    {
     "data": {
      "image/png": "[encoded data removed]",
      "text/plain": [
       "<matplotlib.figure.Figure at 0x4acf978>"
      ]
     },
     "metadata": {},
     "output_type": "display_data"
    }
   ],
   "source": [
    "fig, ax = plt.subplots()\n",
    "\n",
    "for alpha, threshold in zip([1e-6, 1e-4, 1e-2], [5e-4, 3e-3, 1e-2]):\n",
    "    gd = GradientDescent(alpha=alpha, threshold=threshold, loss=sigmoid_loss)\n",
    "    errors = gd.fit(X_train, y_train)\n",
    "    ax.plot(range(len(errors)), errors, label=\"alpha={a}\".format(a=alpha))\n",
    "    \n",
    "ax.legend(loc=0)\n",
    "ax.set_xlabel('iteration')\n",
    "ax.set_ylabel('Q(w)')\n",
    "ax.set_title('GradientDescent, sigmoid_loss')"
   ]
  },
  {
   "cell_type": "markdown",
   "metadata": {},
   "source": [
    "Problem with alpha=1: with any reasonable threshold it takes only two iterations of cycle for both loss functions.\n",
    "\n",
    "For log_loss some mystery with alpha=1e-2 too: either one iteration or really big number."
   ]
  },
  {
   "cell_type": "code",
   "execution_count": 17,
   "metadata": {
    "collapsed": false
   },
   "outputs": [
    {
     "data": {
      "text/plain": [
       "<matplotlib.text.Text at 0x794acc0>"
      ]
     },
     "execution_count": 17,
     "metadata": {},
     "output_type": "execute_result"
    },
    {
     "data": {
      "image/png": "[encoded data removed]",
      "text/plain": [
       "<matplotlib.figure.Figure at 0x78e8518>"
      ]
     },
     "metadata": {},
     "output_type": "display_data"
    }
   ],
   "source": [
    "fig, ax = plt.subplots()\n",
    "\n",
    "for alpha, threshold in zip([1e-6, 1e-4], [7e-4, 2e-3]):\n",
    "    gd = GradientDescent(alpha=alpha, threshold=threshold, loss=log_loss)\n",
    "    errors = gd.fit(X_train, y_train)\n",
    "    ax.plot(range(len(errors)), errors, label=\"alpha={a}\".format(a=alpha))\n",
    "    \n",
    "ax.legend(loc=0)\n",
    "ax.set_xlabel('iteration')\n",
    "ax.set_ylabel('Q(w)')\n",
    "ax.set_title('GradientDescent, log_loss')"
   ]
  },
  {
   "cell_type": "code",
   "execution_count": 18,
   "metadata": {
    "collapsed": false
   },
   "outputs": [
    {
     "data": {
      "text/plain": [
       "<matplotlib.text.Text at 0x7beed68>"
      ]
     },
     "execution_count": 18,
     "metadata": {},
     "output_type": "execute_result"
    },
    {
     "data": {
      "image/png": "[encoded data removed]",
      "text/plain": [
       "<matplotlib.figure.Figure at 0x7b70128>"
      ]
     },
     "metadata": {},
     "output_type": "display_data"
    }
   ],
   "source": [
    "fig, ax = plt.subplots()\n",
    "\n",
    "for k in [1, 10, 50]:\n",
    "    sgd = SGD(alpha=0.5, n_iter=1000, loss=sigmoid_loss)\n",
    "    errors = sgd.fit(X_train, y_train)\n",
    "    ax.plot(range(len(errors)), errors, label=\"k={k}\".format(k=k))\n",
    "    \n",
    "ax.legend(loc=0)\n",
    "ax.set_xlabel('iteration')\n",
    "ax.set_ylabel('Q(w)')\n",
    "ax.set_title('SGD, sigmoid_loss')"
   ]
  },
  {
   "cell_type": "code",
   "execution_count": 19,
   "metadata": {
    "collapsed": false
   },
   "outputs": [
    {
     "data": {
      "text/plain": [
       "<matplotlib.text.Text at 0x7c43b38>"
      ]
     },
     "execution_count": 19,
     "metadata": {},
     "output_type": "execute_result"
    },
    {
     "data": {
      "image/png": "[encoded data removed]",
      "text/plain": [
       "<matplotlib.figure.Figure at 0x7be8048>"
      ]
     },
     "metadata": {},
     "output_type": "display_data"
    }
   ],
   "source": [
    "fig, ax = plt.subplots()\n",
    "\n",
    "for k in [1, 10, 50]:\n",
    "    sgd = SGD(alpha=0.5, n_iter=100, loss=log_loss)\n",
    "    errors = sgd.fit(X_train, y_train)\n",
    "    ax.plot(range(len(errors)), errors, label=\"k={k}\".format(k=k))\n",
    "    \n",
    "ax.legend(loc=0)\n",
    "ax.set_xlabel('iteration')\n",
    "ax.set_ylabel('Q(w)')\n",
    "ax.set_title('SGD, log_loss')"
   ]
  }
 ],
 "metadata": {
  "kernelspec": {
   "display_name": "Python 3",
   "language": "python",
   "name": "python3"
  },
  "language_info": {
   "codemirror_mode": {
    "name": "ipython",
    "version": 3
   },
   "file_extension": ".py",
   "mimetype": "text/x-python",
   "name": "python",
   "nbconvert_exporter": "python",
   "pygments_lexer": "ipython3",
   "version": "3.5.3"
  }
 },
 "nbformat": 4,
 "nbformat_minor": 0
}
